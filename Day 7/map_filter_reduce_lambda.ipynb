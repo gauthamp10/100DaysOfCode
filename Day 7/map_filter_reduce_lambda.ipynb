{
 "cells": [
  {
   "cell_type": "markdown",
   "metadata": {},
   "source": [
    "# Map"
   ]
  },
  {
   "cell_type": "code",
   "execution_count": 109,
   "metadata": {},
   "outputs": [
    {
     "name": "stdout",
     "output_type": "stream",
     "text": [
      "<class 'map'>\n",
      "[4, 16, 36, 64]\n",
      "Short hand with lambda\n",
      "[4, 16, 36, 64]\n",
      "[4, 16, 36, 64]\n"
     ]
    }
   ],
   "source": [
    "# map(function, iterables)\n",
    "def square(a):\n",
    "    return a*a\n",
    "x = map(square,[2,4,6,8])\n",
    "print(type(x))                # A map object\n",
    "print(list(x))\n",
    "\"\"\"Short Hand\"\"\"\n",
    "y = list(map(lambda x:x*x,[2,4,6,8]))\n",
    "print(\"Short hand with lambda\")\n",
    "print(y)\n",
    "\"\"\"OR\"\"\"\n",
    "print([x**2 for x in [2,4,6,8]])"
   ]
  },
  {
   "cell_type": "markdown",
   "metadata": {},
   "source": [
    "# Filter"
   ]
  },
  {
   "cell_type": "code",
   "execution_count": 1,
   "metadata": {
    "tags": []
   },
   "outputs": [
    {
     "output_type": "stream",
     "name": "stdout",
     "text": "[1, 3, 4, 2, -33, -61]\n"
    }
   ],
   "source": [
    "# filter(condition, iterables)\n",
    "arr = [1,23,56,7,3,89,23,4,6,2,46,-33,5,-61,66]\n",
    "print(list(filter(lambda x: x<5,arr)))      #filter object"
   ]
  },
  {
   "cell_type": "markdown",
   "metadata": {},
   "source": [
    "# Reduce"
   ]
  },
  {
   "cell_type": "code",
   "execution_count": 111,
   "metadata": {
    "scrolled": true
   },
   "outputs": [
    {
     "name": "stdout",
     "output_type": "stream",
     "text": [
      "-9016\n"
     ]
    }
   ],
   "source": [
    "#reduce(function, iterables)\n",
    "from functools import reduce\n",
    "arr = [1,23,56,-7]\n",
    "print(reduce(lambda x,y:x*y,arr))"
   ]
  },
  {
   "cell_type": "markdown",
   "metadata": {},
   "source": [
    "# filter() with map()"
   ]
  },
  {
   "cell_type": "code",
   "execution_count": 112,
   "metadata": {},
   "outputs": [
    {
     "name": "stdout",
     "output_type": "stream",
     "text": [
      "[64, 125]\n",
      "[64, 125]\n"
     ]
    }
   ],
   "source": [
    "print(list(map(lambda x:x**3,filter(lambda x: x>=4,[1,2,3,4,5]))))\n",
    "\"\"\"OR List comprehension\"\"\"\n",
    "print([x**3 for x in [1,2,3,4,5] if x>=4])"
   ]
  },
  {
   "cell_type": "markdown",
   "metadata": {},
   "source": [
    "# map() filter() & reduce()"
   ]
  },
  {
   "cell_type": "code",
   "execution_count": 5,
   "metadata": {
    "tags": []
   },
   "outputs": [
    {
     "output_type": "stream",
     "name": "stdout",
     "text": "189\n"
    }
   ],
   "source": [
    "\"\"\"filters value in arr<4 and take cubes of through map() and sum it all up using the reduce function()\"\"\"\n",
    "from functools import reduce\n",
    "arr =[1,2,3,4,5]\n",
    "print(reduce(lambda x,y:x+y,map(lambda x:x**3,filter(lambda x: x>=4,arr))))"
   ]
  },
  {
   "cell_type": "markdown",
   "metadata": {},
   "source": [
    "# lambda - Anonymous functions"
   ]
  },
  {
   "cell_type": "code",
   "execution_count": 114,
   "metadata": {},
   "outputs": [
    {
     "name": "stdout",
     "output_type": "stream",
     "text": [
      "[1, 8, 27, 64, 125, 216, 343]\n"
     ]
    }
   ],
   "source": [
    "# lambda's are usaully used in a nameless manner within another higher order funciton (map,filter,reduce).\n",
    "# lambda arguements: expression\n",
    "cube = lambda x: x**3\n",
    "cube(9)\n",
    "\"\"\"OR\"\"\"\n",
    "print(list(map(lambda x:x**3, [1,2,3,4,5,6,7])))"
   ]
  }
 ],
 "metadata": {
  "kernelspec": {
   "display_name": "Python 3",
   "language": "python",
   "name": "python3"
  },
  "language_info": {
   "codemirror_mode": {
    "name": "ipython",
    "version": 3
   },
   "file_extension": ".py",
   "mimetype": "text/x-python",
   "name": "python",
   "nbconvert_exporter": "python",
   "pygments_lexer": "ipython3",
   "version": "3.8.2-final"
  }
 },
 "nbformat": 4,
 "nbformat_minor": 4
}